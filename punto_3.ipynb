{
 "cells": [
  {
   "cell_type": "code",
   "execution_count": 7,
   "metadata": {},
   "outputs": [],
   "source": [
    "import numpy as np\n",
    "from scipy.integrate import odeint\n",
    "import matplotlib.pyplot as plt\n",
    "from ipywidgets import interact, interactive, fixed, interact_manual"
   ]
  },
  {
   "cell_type": "markdown",
   "metadata": {},
   "source": [
    "Unidades"
   ]
  },
  {
   "cell_type": "code",
   "execution_count": 8,
   "metadata": {},
   "outputs": [],
   "source": [
    "# deg\n",
    "deg = np.pi/180"
   ]
  },
  {
   "cell_type": "markdown",
   "metadata": {},
   "source": [
    "# Solución numérica"
   ]
  },
  {
   "cell_type": "markdown",
   "metadata": {},
   "source": [
    "La ecuación diferencial es:\n",
    "\n",
    "$$\n",
    "z'^2 = \\left[ 1 -\\frac{1}{2} \\left(\\frac{z}{R_c}\\right)^2 \\right]^{-2} - 1 \n",
    "$$\n",
    "\n",
    "Planteemos el modelo."
   ]
  },
  {
   "cell_type": "code",
   "execution_count": 9,
   "metadata": {},
   "outputs": [],
   "source": [
    "R_c = 1\n",
    "def model(u, x):\n",
    "    dudt = np.sqrt((1 - 0.5 * (u/R_c)**2)**(-2) - 1)\n",
    "    return dudt\n"
   ]
  },
  {
   "cell_type": "markdown",
   "metadata": {},
   "source": [
    "Establezcamos las condiciones. En general variaremos $h$. Sin embargo, establezcamos un valor, en este caso, el máximo. \n",
    "\n",
    "Además estableceremos -6 como un valor \"grande\", lejos del cero."
   ]
  },
  {
   "cell_type": "code",
   "execution_count": 10,
   "metadata": {},
   "outputs": [],
   "source": [
    "# Condiciones iniciales\n",
    "h = 1.99  \n",
    "\n",
    "# Puntos de integración\n",
    "x = np.linspace(0, -6, 200)  \n",
    "\n",
    "def z_num(x=x, h=h):\n",
    "    u = odeint(model, h, x)\n",
    "    return u\n"
   ]
  },
  {
   "cell_type": "markdown",
   "metadata": {},
   "source": [
    "# Solución cercana "
   ]
  },
  {
   "cell_type": "markdown",
   "metadata": {},
   "source": [
    "$$\n",
    "z = h \\left( 1 + (R_c/h)^2 \\cot^2(\\chi) \\sin^3(\\chi) \\left[ \\exp( \\tan (\\chi) \\csc^3(\\chi) (h/R_c)^2 (x/h) ) - 1 \\right] \\right)\n",
    "$$"
   ]
  },
  {
   "cell_type": "code",
   "execution_count": 11,
   "metadata": {},
   "outputs": [],
   "source": [
    "cot = lambda x: 1/np.tan(x)\n",
    "csc = lambda x: 1/np.sin(x)\n",
    "\n",
    "\n",
    "def z_close(x=x, h=h, chi=90*deg):\n",
    "\n",
    "    return h*(\n",
    "        1 + (R_c/h)**2 *cot(chi)**2 * np.sin(chi)**3 * (\n",
    "            np.exp(\n",
    "                np.tan(chi)*csc(chi)**3 * (h/R_c)**2 * (x/h)\n",
    "            ) - 1\n",
    "        )\n",
    "    )"
   ]
  },
  {
   "cell_type": "markdown",
   "metadata": {},
   "source": [
    "# Aproximación lineal\n",
    "\n",
    "$$\n",
    "z = \\cot(\\chi) x + h\n",
    "$$"
   ]
  },
  {
   "cell_type": "code",
   "execution_count": 12,
   "metadata": {},
   "outputs": [],
   "source": [
    "def z_linear(x=x, chi=90*deg, h=h):\n",
    "    return cot(chi) * x + h"
   ]
  },
  {
   "cell_type": "markdown",
   "metadata": {},
   "source": [
    "# Lejos\n",
    "\n",
    "$$\n",
    "z = z_0 \\exp((x - x_0)/R_c)\n",
    "$$"
   ]
  },
  {
   "cell_type": "code",
   "execution_count": 13,
   "metadata": {},
   "outputs": [],
   "source": [
    "def z_far(x=x, x0=0, z0=0):\n",
    "    return z0*np.exp((x-x0)/R_c)\n"
   ]
  },
  {
   "cell_type": "markdown",
   "metadata": {},
   "source": [
    "# Grafica"
   ]
  },
  {
   "cell_type": "markdown",
   "metadata": {},
   "source": [
    "Podemos hallar $\\chi$ con los valores que determinamos numéricamente, de modo que será la pendiente entre los dos primeros puntos.\n",
    "\n",
    "$$\n",
    "\\chi = \\arctan \\left( \\frac{x_1 - x_0}{z_1 - z_0} \\right)\n",
    "$$"
   ]
  },
  {
   "cell_type": "code",
   "execution_count": 14,
   "metadata": {},
   "outputs": [
    {
     "name": "stderr",
     "output_type": "stream",
     "text": [
      "Widget Javascript not detected.  It may not be installed or enabled properly. Reconnecting the current kernel may help.\n"
     ]
    },
    {
     "data": {
      "application/vnd.jupyter.widget-view+json": {
       "model_id": "908357ddef40475cb3f1fe0a8e7e8946"
      }
     },
     "metadata": {},
     "output_type": "display_data"
    }
   ],
   "source": [
    "@interact(h=(0.1, 1.99, 0.01))\n",
    "def graphic(h=1):\n",
    "    fig = plt.figure()\n",
    "    ax = fig.add_subplot(1, 1, 1)\n",
    "\n",
    "    # Graficar los resultados\n",
    "    numeric = z_num(h=h)\n",
    "\n",
    "    chi = np.arctan((x[1] - x[0])/(numeric[1] - numeric[0]))\n",
    "    close = z_close(x, h=h, chi=chi)\n",
    "\n",
    "    linear = z_linear(x=x, chi=chi, h=h)\n",
    "    x_num_linear = x[:130]\n",
    "    linear = linear[:130]\n",
    "\n",
    "\n",
    "    x0 = x[0]\n",
    "    z0 = numeric[0]\n",
    "    far = z_far(x, x0, z0)\n",
    "\n",
    "    plt.plot(x, numeric, 'b:', label='z numérica', linewidth=2)\n",
    "    # área bajo la curva\n",
    "    plt.fill_between(x, numeric.reshape(-1), color='blue', alpha=0.2)\n",
    "    \n",
    "\n",
    "    plt.plot(x, close, 'g-', label='z cerca')\n",
    "    plt.plot(x_num_linear, linear, 'y-', label='z lineal')\n",
    "    plt.plot(x, far, 'r-', label='z lejos')\n",
    "\n",
    "\n",
    "\n",
    "    # Ejes del plano cartesiano \n",
    "    ax.spines['left'].set_position('zero')\n",
    "    ax.spines['bottom'].set_position('zero')\n",
    "    ax.spines['right'].set_color('none')\n",
    "    ax.spines['top'].set_color('none')\n",
    "\n",
    "    plt.xlabel('Distancia')\n",
    "    plt.ylabel('z(x)')\n",
    "    ax.yaxis.tick_right()\n",
    "    ax.yaxis.set_label_position(\"right\")\n",
    "\n",
    "    # cuadrícula\n",
    "    plt.grid(True)\n",
    "\n",
    "    plt.xlim(-6, 0)\n",
    "    plt.ylim(-0.3,2.1)\n",
    "    #plt.axis('equal')\n",
    "\n",
    "    plt.legend(loc='upper left')\n",
    "\n",
    "    plt.show()\n",
    "\n",
    "# graphic(1)"
   ]
  }
 ],
 "metadata": {
  "kernelspec": {
   "display_name": "Python 3",
   "language": "python",
   "name": "python3"
  },
  "language_info": {
   "codemirror_mode": {
    "name": "ipython",
    "version": 3
   },
   "file_extension": ".py",
   "mimetype": "text/x-python",
   "name": "python",
   "nbconvert_exporter": "python",
   "pygments_lexer": "ipython3",
   "version": "3.11.2"
  }
 },
 "nbformat": 4,
 "nbformat_minor": 2
}
