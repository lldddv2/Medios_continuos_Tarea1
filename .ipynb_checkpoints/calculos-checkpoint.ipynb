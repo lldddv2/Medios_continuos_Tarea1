{
 "cells": [
  {
   "cell_type": "code",
   "execution_count": 1,
   "metadata": {},
   "outputs": [],
   "source": [
    "import numpy as np\n",
    "import sympy as sp"
   ]
  },
  {
   "cell_type": "markdown",
   "metadata": {},
   "source": [
    "Unidades"
   ]
  },
  {
   "cell_type": "code",
   "execution_count": 2,
   "metadata": {},
   "outputs": [],
   "source": [
    "m = 1\n",
    "km = 1e3*m\n",
    "\n",
    "s = 1\n",
    "\n",
    "kg = 1\n",
    "\n",
    "K = 1\n",
    "centigrade = lambda x: x + 273.15\n",
    "\n",
    "pascal = 1\n",
    "atm = 101325*pascal\n",
    "bar = 1e5*pascal\n",
    "\n",
    "J = 1"
   ]
  },
  {
   "cell_type": "code",
   "execution_count": 3,
   "metadata": {},
   "outputs": [],
   "source": [
    "CN = lambda x: f\"{x:.4e}\""
   ]
  },
  {
   "cell_type": "markdown",
   "metadata": {},
   "source": [
    "# Punto 1"
   ]
  },
  {
   "cell_type": "code",
   "execution_count": 4,
   "metadata": {},
   "outputs": [],
   "source": [
    "gamma = 7/5\n",
    "g0 = 9.8 *m/s**2\n",
    "p0 = 1 * atm\n",
    "rho0 = 1.225 * kg/m**3\n",
    "T0 = centigrade(15)"
   ]
  },
  {
   "cell_type": "markdown",
   "metadata": {},
   "source": [
    "## a)"
   ]
  },
  {
   "cell_type": "markdown",
   "metadata": {},
   "source": [
    "El potencial efectivo $H$ es:\n",
    "\n",
    "$$\n",
    "H = g_0 z + c_p T\n",
    "$$\n",
    "\n",
    "según 4.41 del libro."
   ]
  },
  {
   "cell_type": "markdown",
   "metadata": {},
   "source": [
    "Sabemos que \n",
    "\n",
    "$$\n",
    "p = c_p \\frac{\\gamma - 1}{\\gamma} \\rho T\n",
    "$$\n",
    "\n",
    "por lo tanto:\n",
    "\n",
    "$$\n",
    "c_p = \\frac{p}{\\rho T} \\frac{\\gamma}{\\gamma - 1}\n",
    "$$\n",
    "\n",
    "Entonces, con las condiciones en la superficie podemos hallar $c_p$."
   ]
  },
  {
   "cell_type": "code",
   "execution_count": 5,
   "metadata": {},
   "outputs": [
    {
     "data": {
      "text/plain": [
       "1004.6850598646541"
      ]
     },
     "execution_count": 5,
     "metadata": {},
     "output_type": "execute_result"
    }
   ],
   "source": [
    "c_p = (p0/(rho0*T0))*gamma/(gamma-1)\n",
    "c_p"
   ]
  },
  {
   "cell_type": "markdown",
   "metadata": {},
   "source": [
    "Con este valor podemos hallar $H$ en la superficie."
   ]
  },
  {
   "cell_type": "code",
   "execution_count": 6,
   "metadata": {},
   "outputs": [
    {
     "data": {
      "text/plain": [
       "289500.00000000006"
      ]
     },
     "execution_count": 6,
     "metadata": {},
     "output_type": "execute_result"
    }
   ],
   "source": [
    "H0 = c_p*T0\n",
    "H0"
   ]
  },
  {
   "cell_type": "code",
   "execution_count": 7,
   "metadata": {},
   "outputs": [
    {
     "data": {
      "text/plain": [
       "372060.1082142857"
      ]
     },
     "execution_count": 7,
     "metadata": {},
     "output_type": "execute_result"
    }
   ],
   "source": [
    "R = 286.9 * J/(kg*K)\n",
    "p0/rho0 + R*T0*gamma/(gamma-1)"
   ]
  },
  {
   "cell_type": "code",
   "execution_count": 8,
   "metadata": {},
   "outputs": [
    {
     "data": {
      "text/plain": [
       "1004.1500000000001"
      ]
     },
     "execution_count": 8,
     "metadata": {},
     "output_type": "execute_result"
    }
   ],
   "source": [
    "gamma/(gamma-1)*R"
   ]
  },
  {
   "cell_type": "code",
   "execution_count": 9,
   "metadata": {},
   "outputs": [
    {
     "data": {
      "text/plain": [
       "1004.6850598646541"
      ]
     },
     "execution_count": 9,
     "metadata": {},
     "output_type": "execute_result"
    }
   ],
   "source": [
    "c_p"
   ]
  },
  {
   "cell_type": "markdown",
   "metadata": {},
   "source": [
    "Para la masa:\n",
    "Siendo $h_0 = p_0/(\\rho_0g_0)$, podemos usar la ecuación:\n",
    "\n",
    "$$\n",
    "\\rho = \\rho_0 (1 - z/h_2)^{1/(\\gamma -1)}\n",
    "$$\n",
    "\n",
    "con $h_2 = h_0\\gamma/(\\gamma - 1)$.\n",
    "\n",
    "Luego:\n",
    "\n",
    "\\begin{align*}\n",
    "    m/V &= \\rho_0 (1 - z/h_2)^{1/(\\gamma -1)} \\\\\n",
    "    m &= 4\\pi\\int_0^{h_2} \\rho_0 (1 - z/h_2)^{1/(\\gamma -1)} dz \\\\\n",
    "\\end{align*}"
   ]
  },
  {
   "cell_type": "code",
   "execution_count": 10,
   "metadata": {},
   "outputs": [],
   "source": [
    "h0 = p0/(rho0*g0)\n",
    "h2 = h0*gamma/(gamma-1)"
   ]
  },
  {
   "cell_type": "code",
   "execution_count": 12,
   "metadata": {},
   "outputs": [
    {
     "data": {
      "text/latex": [
       "$\\displaystyle \\frac{2 \\left(h_{2}^{2} \\left(- 8 h_{2}^{3} \\sqrt{\\frac{h_{2} - z_{f}}{h_{2}}} + 8 h_{2}^{3} - 4 h_{2}^{2} z_{f} \\sqrt{\\frac{h_{2} - z_{f}}{h_{2}}} - 3 h_{2} z_{f}^{2} \\sqrt{\\frac{h_{2} - z_{f}}{h_{2}}} + 113 z_{f}^{3} \\sqrt{\\frac{h_{2} - z_{f}}{h_{2}}}\\right) - 161 h_{2} z_{f}^{4} \\sqrt{\\frac{h_{2} - z_{f}}{h_{2}}} + 63 z_{f}^{5} \\sqrt{\\frac{h_{2} - z_{f}}{h_{2}}}\\right)}{693 h_{2}^{2}}$"
      ],
      "text/plain": [
       "2*(h_2**2*(-8*h_2**3*sqrt((h_2 - z_f)/h_2) + 8*h_2**3 - 4*h_2**2*z_f*sqrt((h_2 - z_f)/h_2) - 3*h_2*z_f**2*sqrt((h_2 - z_f)/h_2) + 113*z_f**3*sqrt((h_2 - z_f)/h_2)) - 161*h_2*z_f**4*sqrt((h_2 - z_f)/h_2) + 63*z_f**5*sqrt((h_2 - z_f)/h_2))/(693*h_2**2)"
      ]
     },
     "execution_count": 12,
     "metadata": {},
     "output_type": "execute_result"
    }
   ],
   "source": [
    "from sympy import symbols, integrate, latex\n",
    "from IPython.display import display, Math\n",
    "\n",
    "def integral():\n",
    "    # Definir los símbolos\n",
    "    z= symbols(r'z')\n",
    "    h2 = symbols(r'h_2')\n",
    "\n",
    "    gamma = sp.Rational(7,5)\n",
    "    alpha = 1/(gamma-1)\n",
    "\n",
    "    z_f = symbols(\"z_f\")\n",
    "    # z_f = 29*km\n",
    "    # Integrar la expresión \\int_0^{z_f} z^{\\alpha} dz\n",
    "    I = integrate(z**2 * (1-z/h2)**alpha, (z, 0, z_f))\n",
    "\n",
    "\n",
    "    # Generar la expresión en LaTeX y mostrarla\n",
    "    latex_exp = I.simplify()\n",
    "    return latex_exp\n",
    "\n",
    "integral()  "
   ]
  },
  {
   "cell_type": "markdown",
   "metadata": {},
   "source": [
    "$$<\\\\frac{2 \\\\left(h_{2}^{2} \\\\left(- 8 h_{2}^{3} \\\\sqrt{\\\\frac{h_{2} - z_{f}}{h_{2}}} + 8 h_{2}^{3} - 4 h_{2}^{2} z_{f} \\\\sqrt{\\\\frac{h_{2} - z_{f}}{h_{2}}} - 3 h_{2} z_{f}^{2} \\\\sqrt{\\\\frac{h_{2} - z_{f}}{h_{2}}} + 113 z_{f}^{3} \\\\sqrt{\\\\frac{h_{2} - z_{f}}{h_{2}}}\\\\right) - 161 h_{2} z_{f}^{4} \\\\sqrt{\\\\frac{h_{2} - z_{f}}{h_{2}}} + 63 z_{f}^{5} \\\\sqrt{\\\\frac{h_{2} - z_{f}}{h_{2}}}\\\\right)}{693 h_{2}^{2}}$\n"
   ]
  },
  {
   "cell_type": "code",
   "execution_count": 67,
   "metadata": {},
   "outputs": [
    {
     "data": {
      "text/plain": [
       "'9.1621e+12 kg'"
      ]
     },
     "execution_count": 67,
     "metadata": {},
     "output_type": "execute_result"
    }
   ],
   "source": [
    "mass = integral()*4*np.pi*rho0\n",
    "CN(mass) + \" kg\""
   ]
  },
  {
   "cell_type": "code",
   "execution_count": 53,
   "metadata": {},
   "outputs": [
    {
     "data": {
      "text/latex": [
       "$\\displaystyle z^{2} \\left(1 - \\frac{z}{h_{2}}\\right)^{\\frac{5}{2}}$"
      ],
      "text/plain": [
       "z**2*(1 - z/h_2)**(5/2)"
      ]
     },
     "execution_count": 53,
     "metadata": {},
     "output_type": "execute_result"
    }
   ],
   "source": [
    "gamma, z, zf, h2 = symbols(r'\\gamma z z_f h_2')\n",
    "\n",
    "gamma = sp.Rational(7,5)\n",
    "alpha = 1/(gamma-1)\n",
    "z**2 * (1-z/h2)**alpha"
   ]
  },
  {
   "cell_type": "code",
   "execution_count": 13,
   "metadata": {},
   "outputs": [
    {
     "data": {
      "text/plain": [
       "1.8088798915690758e+20"
      ]
     },
     "execution_count": 13,
     "metadata": {},
     "output_type": "execute_result"
    }
   ],
   "source": [
    "R_E = 6.371e6\n",
    "4*np.pi*R_E**2 * rho0*H0"
   ]
  },
  {
   "cell_type": "code",
   "execution_count": null,
   "metadata": {},
   "outputs": [],
   "source": []
  }
 ],
 "metadata": {
  "kernelspec": {
   "display_name": "Python 3 (ipykernel)",
   "language": "python",
   "name": "python3"
  },
  "language_info": {
   "codemirror_mode": {
    "name": "ipython",
    "version": 3
   },
   "file_extension": ".py",
   "mimetype": "text/x-python",
   "name": "python",
   "nbconvert_exporter": "python",
   "pygments_lexer": "ipython3",
   "version": "3.11.2"
  }
 },
 "nbformat": 4,
 "nbformat_minor": 2
}
