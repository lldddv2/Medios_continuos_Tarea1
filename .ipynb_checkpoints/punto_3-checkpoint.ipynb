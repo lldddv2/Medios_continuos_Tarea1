{
 "cells": [
  {
   "cell_type": "code",
   "execution_count": 1,
   "metadata": {},
   "outputs": [],
   "source": [
    "import numpy as np\n",
    "from scipy.integrate import odeint\n",
    "import matplotlib.pyplot as plt\n",
    "from ipywidgets import interact, interactive, fixed, interact_manual"
   ]
  },
  {
   "cell_type": "markdown",
   "metadata": {},
   "source": [
    "Unidades"
   ]
  },
  {
   "cell_type": "code",
   "execution_count": 2,
   "metadata": {},
   "outputs": [],
   "source": [
    "# distancia\n",
    "m = 1\n",
    "mm = 1e-3*m\n",
    "\n",
    "# masa\n",
    "kg = 1\n",
    "\n",
    "# deg\n",
    "deg = np.pi/180"
   ]
  },
  {
   "cell_type": "markdown",
   "metadata": {},
   "source": [
    "# Solución numérica"
   ]
  },
  {
   "cell_type": "markdown",
   "metadata": {},
   "source": [
    "La ecuación diferencial es:\n",
    "\n",
    "$$\n",
    "z'^2 = \\left[ 1 -\\frac{1}{2} \\left(\\frac{z}{R_c}\\right)^2 \\right]^{-2} - 1 \n",
    "$$\n",
    "\n",
    "Sin embargo, establecer numéricamente una condición de frontera es complicado, así que, aprovechando la simetría de la ecuación, podemos tomar la parte negativa de la raíz cuadrada y luego invertir los valores.\n",
    "\n",
    "$$\n",
    "u' = -\\sqrt{\\left[ 1 -\\frac{1}{2} \\left(\\frac{u}{R_c}\\right)^2 \\right]^{-2} - 1}\n",
    "$$\n",
    "\n",
    "Llamamos $u$ a esta parte de la solución, pues no tiene significado físico alguno, sólo es un artilugio matemático. \n",
    "\n",
    "La ventaja de esto es que, en lugar de ver el problema como una condición de frontera, cuyos métodos de solución no son triviales, establecemos una condición inicial, que es mucho más sencilla de resolver."
   ]
  },
  {
   "cell_type": "code",
   "execution_count": 3,
   "metadata": {},
   "outputs": [],
   "source": [
    "R_c = 1\n",
    "def model(u, x):\n",
    "    dudt = -np.sqrt((1 - 0.5 * (u/R_c)**2)**(-2) - 1)\n",
    "    return dudt\n"
   ]
  },
  {
   "cell_type": "code",
   "execution_count": 4,
   "metadata": {},
   "outputs": [],
   "source": [
    "# Condiciones iniciales\n",
    "h = 1.99  \n",
    "\n",
    "# Puntos de tiempo\n",
    "x = np.linspace(0, 3, 200)  \n",
    "x_num = x - 3\n",
    "\n",
    "def z_num(x=x, h=h):\n",
    "    u = odeint(model, h, x)\n",
    "    return u[::-1, 0]\n"
   ]
  },
  {
   "cell_type": "markdown",
   "metadata": {},
   "source": [
    "# Solución cercana "
   ]
  },
  {
   "cell_type": "markdown",
   "metadata": {},
   "source": [
    "$$\n",
    "z = h \\left( 1 + (R_c/h)^2 \\cot^2(\\chi) \\sin^3(\\chi) \\left[ \\exp( \\tan (\\chi) \\csc^3(\\chi) (h/R_c)^2 (x/h) ) - 1 \\right] \\right)\n",
    "$$"
   ]
  },
  {
   "cell_type": "code",
   "execution_count": 5,
   "metadata": {},
   "outputs": [],
   "source": [
    "cot = lambda x: 1/np.tan(x)\n",
    "csc = lambda x: 1/np.sin(x)\n",
    "\n",
    "\n",
    "def z_close(x=x_num, h=h, chi=90*deg):\n",
    "\n",
    "    return h*(\n",
    "        1 + (R_c/h)**2 *cot(chi)**2 * np.sin(chi)**3 * (\n",
    "            np.exp(\n",
    "                np.tan(chi)*csc(chi)**3 * (h/R_c)**2 * (x/h)\n",
    "            ) - 1\n",
    "        )\n",
    "    )\n",
    "\n",
    "# z_close"
   ]
  },
  {
   "cell_type": "markdown",
   "metadata": {},
   "source": [
    "# Aproximación lineal\n",
    "\n",
    "$$\n",
    "z = \\cot(\\chi) x + h\n",
    "$$"
   ]
  },
  {
   "cell_type": "code",
   "execution_count": 6,
   "metadata": {},
   "outputs": [],
   "source": [
    "def z_linear(x=x_num, chi=90*deg, h=h):\n",
    "    return cot(chi) * x + h"
   ]
  },
  {
   "cell_type": "markdown",
   "metadata": {},
   "source": [
    "# Lejos\n",
    "\n",
    "$$\n",
    "z = z_0 \\exp((x - x_0)/R_c)\n",
    "$$"
   ]
  },
  {
   "cell_type": "code",
   "execution_count": 7,
   "metadata": {},
   "outputs": [],
   "source": [
    "def z_far(x=x_num, x0=0, z0=0):\n",
    "    return z0*np.exp((x-x0)/R_c)\n"
   ]
  },
  {
   "cell_type": "markdown",
   "metadata": {},
   "source": [
    "# Grafica"
   ]
  },
  {
   "cell_type": "code",
   "execution_count": 15,
   "metadata": {},
   "outputs": [
    {
     "name": "stderr",
     "output_type": "stream",
     "text": [
      "Widget Javascript not detected.  It may not be installed or enabled properly. Reconnecting the current kernel may help.\n"
     ]
    },
    {
     "data": {
      "application/vnd.jupyter.widget-view+json": {
       "model_id": "4fe97df2a2a74ec7bd8d273e17c5164a"
      }
     },
     "metadata": {},
     "output_type": "display_data"
    }
   ],
   "source": [
    "@interact(h=(1, 1.99, 0.01))\n",
    "def graphic(h=1):\n",
    "    fig = plt.figure()\n",
    "    ax = fig.add_subplot(1, 1, 1)\n",
    "\n",
    "    # Graficar los resultados\n",
    "    numerico = z_num(h=h)\n",
    "\n",
    "    chi = np.arctan((x_num[-2] - x_num[-1])/(numerico[-2] - numerico[-1]))\n",
    "    close = z_close(x_num, h, chi)\n",
    "\n",
    "    linear = z_linear(x_num, chi, h)\n",
    "    x_num_linear = x_num[130:]\n",
    "    linear = linear[130:]\n",
    "\n",
    "\n",
    "    x0 = x_num[0]\n",
    "    z0 = numerico[0]\n",
    "    far = z_far(x_num, x0, z0)\n",
    "\n",
    "    plt.plot(x_num, numerico, 'b:', label='z numérica', linewidth=2)\n",
    "    # área bajo la curva\n",
    "    plt.fill_between(x_num, numerico, color='blue', alpha=0.2)\n",
    "    \n",
    "\n",
    "    plt.plot(x_num, close, 'g-', label='z cerca')\n",
    "    plt.plot(x_num_linear, linear, 'y-', label='z lineal')\n",
    "    plt.plot(x_num, far, 'r-', label='z lejos')\n",
    "\n",
    "\n",
    "\n",
    "    # Ejes del plano cartesiano \n",
    "    ax.spines['left'].set_position('zero')\n",
    "    ax.spines['bottom'].set_position('zero')\n",
    "    ax.spines['right'].set_color('none')\n",
    "    ax.spines['top'].set_color('none')\n",
    "\n",
    "    plt.xlabel('Tiempo')\n",
    "    plt.ylabel('z(t)')\n",
    "    ax.yaxis.tick_right()\n",
    "    ax.yaxis.set_label_position(\"right\")\n",
    "\n",
    "    # cuadrícula\n",
    "    plt.grid(True)\n",
    "\n",
    "    plt.xlim(-3, 0)\n",
    "    plt.ylim(-0.3,2.1)\n",
    "    #plt.axis('equal')\n",
    "\n",
    "    plt.legend(loc='upper left')\n",
    "\n",
    "    plt.show()\n"
   ]
  },
  {
   "cell_type": "code",
   "execution_count": null,
   "metadata": {},
   "outputs": [],
   "source": []
  }
 ],
 "metadata": {
  "kernelspec": {
   "display_name": "Python 3 (ipykernel)",
   "language": "python",
   "name": "python3"
  },
  "language_info": {
   "codemirror_mode": {
    "name": "ipython",
    "version": 3
   },
   "file_extension": ".py",
   "mimetype": "text/x-python",
   "name": "python",
   "nbconvert_exporter": "python",
   "pygments_lexer": "ipython3",
   "version": "3.11.2"
  }
 },
 "nbformat": 4,
 "nbformat_minor": 2
}
