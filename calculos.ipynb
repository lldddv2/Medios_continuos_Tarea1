{
 "cells": [
  {
   "cell_type": "code",
   "execution_count": 32,
   "metadata": {},
   "outputs": [],
   "source": [
    "import numpy as np\n",
    "import sympy as sp"
   ]
  },
  {
   "cell_type": "markdown",
   "metadata": {},
   "source": [
    "Unidades"
   ]
  },
  {
   "cell_type": "code",
   "execution_count": 33,
   "metadata": {},
   "outputs": [],
   "source": [
    "m = 1\n",
    "cm = 1e-2*m\n",
    "km = 1e3*m\n",
    "\n",
    "\n",
    "s = 1\n",
    "\n",
    "kg = 1\n",
    "g = 1e-3*kg\n",
    "\n",
    "K = 1\n",
    "centigrade = lambda x: x + 273.15\n",
    "\n",
    "pascal = 1\n",
    "atm = 101325*pascal\n",
    "bar = 1e5*pascal\n",
    "\n",
    "J = 1"
   ]
  },
  {
   "cell_type": "code",
   "execution_count": 34,
   "metadata": {},
   "outputs": [],
   "source": [
    "CN = lambda x: f\"{x:.4e}\""
   ]
  },
  {
   "cell_type": "markdown",
   "metadata": {},
   "source": [
    "# Punto 1"
   ]
  },
  {
   "cell_type": "code",
   "execution_count": 35,
   "metadata": {},
   "outputs": [],
   "source": [
    "gamma = 7/5\n",
    "g0 = 9.8 *m/s**2\n",
    "p0 = 1 * atm\n",
    "rho0 = 1.225 * kg/m**3\n",
    "T0 = centigrade(15)"
   ]
  },
  {
   "cell_type": "code",
   "execution_count": 36,
   "metadata": {},
   "outputs": [
    {
     "data": {
      "text/plain": [
       "288.15"
      ]
     },
     "execution_count": 36,
     "metadata": {},
     "output_type": "execute_result"
    }
   ],
   "source": [
    "T0"
   ]
  },
  {
   "cell_type": "markdown",
   "metadata": {},
   "source": [
    "## a)"
   ]
  },
  {
   "cell_type": "markdown",
   "metadata": {},
   "source": [
    "El potencial efectivo $H$ es:\n",
    "\n",
    "$$\n",
    "H = g_0 z + c_p T\n",
    "$$\n",
    "\n",
    "según 4.41 del libro."
   ]
  },
  {
   "cell_type": "markdown",
   "metadata": {},
   "source": [
    "Sabemos que \n",
    "\n",
    "$$\n",
    "p = c_p \\frac{\\gamma - 1}{\\gamma} \\rho T\n",
    "$$\n",
    "\n",
    "por lo tanto:\n",
    "\n",
    "$$\n",
    "c_p = \\frac{p}{\\rho T} \\frac{\\gamma}{\\gamma - 1}\n",
    "$$\n",
    "\n",
    "Entonces, con las condiciones en la superficie podemos hallar $c_p$."
   ]
  },
  {
   "cell_type": "code",
   "execution_count": 37,
   "metadata": {},
   "outputs": [
    {
     "data": {
      "text/plain": [
       "1004.6850598646541"
      ]
     },
     "execution_count": 37,
     "metadata": {},
     "output_type": "execute_result"
    }
   ],
   "source": [
    "c_p = (p0/(rho0*T0))*gamma/(gamma-1)\n",
    "c_p"
   ]
  },
  {
   "cell_type": "markdown",
   "metadata": {},
   "source": [
    "Con este valor podemos hallar $H$ en la superficie."
   ]
  },
  {
   "cell_type": "code",
   "execution_count": 38,
   "metadata": {},
   "outputs": [
    {
     "data": {
      "text/plain": [
       "'2.8950e+05'"
      ]
     },
     "execution_count": 38,
     "metadata": {},
     "output_type": "execute_result"
    }
   ],
   "source": [
    "H0 = c_p*T0\n",
    "CN(H0)"
   ]
  },
  {
   "cell_type": "code",
   "execution_count": 39,
   "metadata": {},
   "outputs": [
    {
     "data": {
      "text/plain": [
       "372060.1082142857"
      ]
     },
     "execution_count": 39,
     "metadata": {},
     "output_type": "execute_result"
    }
   ],
   "source": [
    "R = 286.9 * J/(kg*K)\n",
    "p0/rho0 + R*T0*gamma/(gamma-1)"
   ]
  },
  {
   "cell_type": "code",
   "execution_count": 40,
   "metadata": {},
   "outputs": [
    {
     "data": {
      "text/plain": [
       "1004.1500000000001"
      ]
     },
     "execution_count": 40,
     "metadata": {},
     "output_type": "execute_result"
    }
   ],
   "source": [
    "gamma/(gamma-1)*R"
   ]
  },
  {
   "cell_type": "code",
   "execution_count": 41,
   "metadata": {},
   "outputs": [
    {
     "data": {
      "text/plain": [
       "1004.6850598646541"
      ]
     },
     "execution_count": 41,
     "metadata": {},
     "output_type": "execute_result"
    }
   ],
   "source": [
    "c_p"
   ]
  },
  {
   "cell_type": "markdown",
   "metadata": {},
   "source": [
    "Para la masa:\n",
    "Siendo $h_0 = p_0/(\\rho_0g_0)$, podemos usar la ecuación:\n",
    "\n",
    "$$\n",
    "\\rho = \\rho_0 (1 - z/h_2)^{1/(\\gamma -1)}\n",
    "$$\n",
    "\n",
    "con $h_2 = h_0\\gamma/(\\gamma - 1)$.\n",
    "\n",
    "Luego:\n",
    "\n",
    "\\begin{align*}\n",
    "    m/V &= \\rho_0 (1 - z/h_2)^{1/(\\gamma -1)} \\\\\n",
    "    m &= 4\\pi\\int_0^{h_2} \\rho_0 (1 - z/h_2)^{1/(\\gamma -1)} dz \\\\\n",
    "\\end{align*}"
   ]
  },
  {
   "cell_type": "code",
   "execution_count": 42,
   "metadata": {},
   "outputs": [
    {
     "data": {
      "text/plain": [
       "29540.81632653061"
      ]
     },
     "execution_count": 42,
     "metadata": {},
     "output_type": "execute_result"
    }
   ],
   "source": [
    "h0 = p0/(rho0*g0)\n",
    "h2 = h0*gamma/(gamma-1)\n",
    "h2"
   ]
  },
  {
   "cell_type": "code",
   "execution_count": 43,
   "metadata": {},
   "outputs": [
    {
     "data": {
      "text/latex": [
       "$\\displaystyle 5.28457942870836 \\cdot 10^{18}$"
      ],
      "text/plain": [
       "5.28457942870836e+18"
      ]
     },
     "execution_count": 43,
     "metadata": {},
     "output_type": "execute_result"
    }
   ],
   "source": [
    "from sympy import symbols, integrate, latex\n",
    "from IPython.display import display, Math\n",
    "\n",
    "def integral():\n",
    "    # Definir los símbolos\n",
    "    z= symbols(r'z')\n",
    "    # h2 = symbols(r'h_2')\n",
    "    gamma, R_E = symbols(r'\\gamma R_E')\n",
    "\n",
    "    gamma = sp.Rational(7,5)\n",
    "    alpha = 1/(gamma-1)\n",
    "\n",
    "    R_E = 6371 * km\n",
    "    # h2 = h0*gamma/()\n",
    "\n",
    "    z_f = symbols(\"z_f\")\n",
    "    # z_f = 29*km\n",
    "    # Integrar la expresión \\int_0^{z_f} z^{\\alpha} dz\n",
    "    I = integrate((R_E + z)**2 * (1-(z/h2))**alpha, (z, 0, h2))\n",
    "\n",
    "\n",
    "    # Generar la expresión en LaTeX y mostrarla\n",
    "    latex_exp = I.simplify()\n",
    "    return latex_exp\n",
    "\n",
    "integral()  * 4*np.pi * rho0"
   ]
  },
  {
   "cell_type": "code",
   "execution_count": 44,
   "metadata": {},
   "outputs": [
    {
     "data": {
      "text/plain": [
       "'5.2846e+18 kg'"
      ]
     },
     "execution_count": 44,
     "metadata": {},
     "output_type": "execute_result"
    }
   ],
   "source": [
    "M_atmosphere = integral()*4*np.pi*rho0\n",
    "CN(M_atmosphere) + \" kg\""
   ]
  },
  {
   "cell_type": "code",
   "execution_count": 45,
   "metadata": {},
   "outputs": [
    {
     "data": {
      "text/plain": [
       "5.27370230778156e+18"
      ]
     },
     "execution_count": 45,
     "metadata": {},
     "output_type": "execute_result"
    }
   ],
   "source": [
    "4*np.pi*rho0* R_E**2 *h2 * (gamma - 1)/gamma"
   ]
  },
  {
   "cell_type": "markdown",
   "metadata": {},
   "source": [
    "# b)\n",
    "\n",
    "página 31"
   ]
  },
  {
   "cell_type": "code",
   "execution_count": 46,
   "metadata": {},
   "outputs": [
    {
     "data": {
      "text/plain": [
       "'5.9185e+24'"
      ]
     },
     "execution_count": 46,
     "metadata": {},
     "output_type": "execute_result"
    }
   ],
   "source": [
    "rho_core = 10.9 *g/cm**3\n",
    "rho_mantle = 4.4 * g/cm**3\n",
    "\n",
    "R_E = 6371 * km\n",
    "R_core = 3485 * km\n",
    "R_mantle = R_E - R_core\n",
    "\n",
    "V_E = 4/3*np.pi*R_E**3\n",
    "V_core = 4/3*np.pi*R_core**3\n",
    "V_mantle = V_E - V_core\n",
    "\n",
    "M_core = V_core * rho_core\n",
    "M_mantle = V_mantle * rho_mantle\n",
    "\n",
    "M_E = M_core + M_mantle \n",
    "\n",
    "CN(M_E)"
   ]
  },
  {
   "cell_type": "code",
   "execution_count": 47,
   "metadata": {},
   "outputs": [
    {
     "data": {
      "text/latex": [
       "$\\displaystyle 8.9288728163737 \\cdot 10^{-7}$"
      ],
      "text/plain": [
       "8.92887281637370e-7"
      ]
     },
     "execution_count": 47,
     "metadata": {},
     "output_type": "execute_result"
    }
   ],
   "source": [
    "M_atmosphere/M_E"
   ]
  },
  {
   "cell_type": "markdown",
   "metadata": {},
   "source": [
    "# C)"
   ]
  },
  {
   "cell_type": "code",
   "execution_count": 48,
   "metadata": {},
   "outputs": [
    {
     "data": {
      "text/latex": [
       "$\\displaystyle \\frac{2 \\left(- 99 R_{E}^{2} h_{2}^{3} \\sqrt{\\frac{h_{2} - z_{f}}{h_{2}}} + 99 R_{E}^{2} h_{2}^{3} + 297 R_{E}^{2} h_{2}^{2} z_{f} \\sqrt{\\frac{h_{2} - z_{f}}{h_{2}}} - 297 R_{E}^{2} h_{2} z_{f}^{2} \\sqrt{\\frac{h_{2} - z_{f}}{h_{2}}} + 99 R_{E}^{2} z_{f}^{3} \\sqrt{\\frac{h_{2} - z_{f}}{h_{2}}} - 44 R_{E} h_{2}^{4} \\sqrt{\\frac{h_{2} - z_{f}}{h_{2}}} + 44 R_{E} h_{2}^{4} - 22 R_{E} h_{2}^{3} z_{f} \\sqrt{\\frac{h_{2} - z_{f}}{h_{2}}} + 330 R_{E} h_{2}^{2} z_{f}^{2} \\sqrt{\\frac{h_{2} - z_{f}}{h_{2}}} - 418 R_{E} h_{2} z_{f}^{3} \\sqrt{\\frac{h_{2} - z_{f}}{h_{2}}} + 154 R_{E} z_{f}^{4} \\sqrt{\\frac{h_{2} - z_{f}}{h_{2}}} - 8 h_{2}^{5} \\sqrt{\\frac{h_{2} - z_{f}}{h_{2}}} + 8 h_{2}^{5} - 4 h_{2}^{4} z_{f} \\sqrt{\\frac{h_{2} - z_{f}}{h_{2}}} - 3 h_{2}^{3} z_{f}^{2} \\sqrt{\\frac{h_{2} - z_{f}}{h_{2}}} + 113 h_{2}^{2} z_{f}^{3} \\sqrt{\\frac{h_{2} - z_{f}}{h_{2}}} - 161 h_{2} z_{f}^{4} \\sqrt{\\frac{h_{2} - z_{f}}{h_{2}}} + 63 z_{f}^{5} \\sqrt{\\frac{h_{2} - z_{f}}{h_{2}}}\\right)}{693 h_{2}^{2}}$"
      ],
      "text/plain": [
       "2*(-99*R_E**2*h_2**3*sqrt((h_2 - z_f)/h_2) + 99*R_E**2*h_2**3 + 297*R_E**2*h_2**2*z_f*sqrt((h_2 - z_f)/h_2) - 297*R_E**2*h_2*z_f**2*sqrt((h_2 - z_f)/h_2) + 99*R_E**2*z_f**3*sqrt((h_2 - z_f)/h_2) - 44*R_E*h_2**4*sqrt((h_2 - z_f)/h_2) + 44*R_E*h_2**4 - 22*R_E*h_2**3*z_f*sqrt((h_2 - z_f)/h_2) + 330*R_E*h_2**2*z_f**2*sqrt((h_2 - z_f)/h_2) - 418*R_E*h_2*z_f**3*sqrt((h_2 - z_f)/h_2) + 154*R_E*z_f**4*sqrt((h_2 - z_f)/h_2) - 8*h_2**5*sqrt((h_2 - z_f)/h_2) + 8*h_2**5 - 4*h_2**4*z_f*sqrt((h_2 - z_f)/h_2) - 3*h_2**3*z_f**2*sqrt((h_2 - z_f)/h_2) + 113*h_2**2*z_f**3*sqrt((h_2 - z_f)/h_2) - 161*h_2*z_f**4*sqrt((h_2 - z_f)/h_2) + 63*z_f**5*sqrt((h_2 - z_f)/h_2))/(693*h_2**2)"
      ]
     },
     "execution_count": 48,
     "metadata": {},
     "output_type": "execute_result"
    }
   ],
   "source": [
    "def integral2():\n",
    "    # Definir los símbolos\n",
    "    z, r= symbols(r'z r')\n",
    "    h2 = symbols(r'h_2')\n",
    "    gamma, R_E = symbols(r'\\gamma R_E')\n",
    "\n",
    "    gamma = sp.Rational(7,5)\n",
    "    alpha = 1/(gamma-1)\n",
    "\n",
    "    # R_E = 6371 * km\n",
    "    # h2 = h0*gamma/()\n",
    "\n",
    "    z_f = symbols(\"z_f\")\n",
    "    # z_f = 29*km\n",
    "    # Integrar la expresión \\int_0^{z_f} z^{\\alpha} dz\n",
    "    I = integrate(r**2 * (1-((r-R_E)/h2))**alpha, (r, R_E, R_E + z_f))\n",
    "\n",
    "\n",
    "    # Generar la expresión en LaTeX y mostrarla\n",
    "    latex_exp = I.simplify()\n",
    "    # latex_exp = I.expand()\n",
    "    # # factorizamos sqrt(1 - z_f/h2)\n",
    "    # sqrt_expr = sp.sqrt(1 - z_f/h2)\n",
    "    # # sqrt_expr = h2\n",
    "    # latex_exp = I.expand().factor(sqrt_expr)\n",
    "    # latex_exp = I.simplify()\n",
    "    # latex_exp = \n",
    "    return latex_exp\n",
    "\n",
    "integral2()  #* 4*np.pi * rho0"
   ]
  },
  {
   "cell_type": "code",
   "execution_count": 49,
   "metadata": {},
   "outputs": [
    {
     "data": {
      "text/plain": [
       "'236.240233556214 K'"
      ]
     },
     "execution_count": 49,
     "metadata": {},
     "output_type": "execute_result"
    }
   ],
   "source": [
    "T_zf = T0 * (1 - M_atmosphere/2 * gamma/(gamma-1) * 1/(4*np.pi*rho0) * 1/(R_E**2 * h2))**((gamma-1)/gamma)\n",
    "str(T_zf) + \" K\""
   ]
  },
  {
   "cell_type": "code",
   "execution_count": 50,
   "metadata": {},
   "outputs": [
    {
     "data": {
      "text/plain": [
       "0.2421417167448009"
      ]
     },
     "execution_count": 50,
     "metadata": {},
     "output_type": "execute_result"
    }
   ],
   "source": [
    "1 - 2**(-(gamma -1))"
   ]
  },
  {
   "cell_type": "code",
   "execution_count": 52,
   "metadata": {},
   "outputs": [
    {
     "data": {
      "text/plain": [
       "236.37963283360085"
      ]
     },
     "execution_count": 52,
     "metadata": {},
     "output_type": "execute_result"
    }
   ],
   "source": [
    "T0 * ((1/2)**((gamma-1)/gamma))"
   ]
  },
  {
   "cell_type": "code",
   "execution_count": 53,
   "metadata": {},
   "outputs": [
    {
     "data": {
      "text/plain": [
       "0.2421417167448009"
      ]
     },
     "execution_count": 53,
     "metadata": {},
     "output_type": "execute_result"
    }
   ],
   "source": [
    "1 - 2**(-(gamma -1))"
   ]
  },
  {
   "cell_type": "code",
   "execution_count": null,
   "metadata": {},
   "outputs": [],
   "source": []
  }
 ],
 "metadata": {
  "kernelspec": {
   "display_name": "Python 3",
   "language": "python",
   "name": "python3"
  },
  "language_info": {
   "codemirror_mode": {
    "name": "ipython",
    "version": 3
   },
   "file_extension": ".py",
   "mimetype": "text/x-python",
   "name": "python",
   "nbconvert_exporter": "python",
   "pygments_lexer": "ipython3",
   "version": "3.11.2"
  }
 },
 "nbformat": 4,
 "nbformat_minor": 2
}
